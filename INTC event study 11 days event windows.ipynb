{
 "cells": [
  {
   "cell_type": "code",
   "execution_count": 32,
   "id": "5a7279a3",
   "metadata": {},
   "outputs": [],
   "source": [
    "import pandas as pd\n",
    "import numpy as np\n",
    "import scipy.stats as stats"
   ]
  },
  {
   "cell_type": "code",
   "execution_count": 33,
   "id": "06a66a9b",
   "metadata": {},
   "outputs": [],
   "source": [
    "indata = 'C:/FINE 6310/INTC_Event_Study_Python.xlsx'\n",
    "t = pd.read_excel(indata)\n",
    "scaar=[]\n",
    "scaar_est=[]"
   ]
  },
  {
   "cell_type": "code",
   "execution_count": 34,
   "id": "f25c01b9",
   "metadata": {},
   "outputs": [],
   "source": [
    "for i in range(1,21):\n",
    "    estimation_ret =t.iloc[0:205,i:i+1]\n",
    "    estimation_mean=np.mean(estimation_ret)\n",
    "    estimation_std=np.std(estimation_ret, ddof=1)\n",
    "    event_ret=t.iloc[205:216,i:i+1]\n",
    "    ab= event_ret-estimation_mean\n",
    "    caar=np.mean(ab)\n",
    "    event_std=np.std(ab, ddof=1)\n",
    "    scaar_event_std=caar/(event_std/np.sqrt(11)) \n",
    "    scaar.append(scaar_event_std)\n",
    "    scaar_estimation_std=caar/(estimation_std/np.sqrt(11))\n",
    "    scaar_est.append(scaar_estimation_std)"
   ]
  },
  {
   "cell_type": "code",
   "execution_count": 35,
   "id": "ecf4b1bb",
   "metadata": {},
   "outputs": [],
   "source": [
    "mean_scaar=np.mean(scaar)\n",
    "std_scaar=np.std(scaar, ddof=1)\n",
    "t=mean_scaar/(std_scaar/np.sqrt(20))\n",
    "dof = 19\n",
    "p=2*stats.t.sf(abs(t), dof)  # p-value for 2-sided test\n",
    "mean_scaar_est=np.mean(scaar_est)\n",
    "std_scaar_est=np.std(scaar_est, ddof=1)\n",
    "te=mean_scaar_est/(std_scaar_est/np.sqrt(20))\n",
    "pe=2*stats.t.sf(abs(te), dof)"
   ]
  },
  {
   "cell_type": "code",
   "execution_count": 36,
   "id": "efb8a662",
   "metadata": {},
   "outputs": [
    {
     "name": "stdout",
     "output_type": "stream",
     "text": [
      "t-test using event windows: -2.516057110446869 P-Value: 0.02101610144932771\n",
      "t-test using estimation windows: -1.673510828858804 P-Value: 0.1106110614646989\n"
     ]
    }
   ],
   "source": [
    "print('t-test using event windows:', t, 'P-Value:', p)\n",
    "print('t-test using estimation windows:', te,'P-Value:', pe)"
   ]
  },
  {
   "cell_type": "code",
   "execution_count": null,
   "id": "ae8d6481",
   "metadata": {},
   "outputs": [],
   "source": []
  },
  {
   "cell_type": "code",
   "execution_count": null,
   "id": "07594318",
   "metadata": {},
   "outputs": [],
   "source": []
  }
 ],
 "metadata": {
  "kernelspec": {
   "display_name": "Python 3",
   "language": "python",
   "name": "python3"
  },
  "language_info": {
   "codemirror_mode": {
    "name": "ipython",
    "version": 3
   },
   "file_extension": ".py",
   "mimetype": "text/x-python",
   "name": "python",
   "nbconvert_exporter": "python",
   "pygments_lexer": "ipython3",
   "version": "3.8.8"
  }
 },
 "nbformat": 4,
 "nbformat_minor": 5
}
